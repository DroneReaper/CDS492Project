{
 "cells": [
  {
   "cell_type": "code",
   "execution_count": 81,
   "metadata": {},
   "outputs": [],
   "source": [
    "#All necessary packages needed to run code \n",
    "import numpy as np\n",
    "from sklearn.linear_model import LinearRegression\n",
    "import pandas as pd\n",
    "from sklearn.linear_model import LinearRegression\n",
    "from sklearn.model_selection import train_test_split\n",
    "from sklearn.metrics import r2_score\n",
    "from sklearn.metrics import mean_squared_error\n",
    "from sklearn.metrics import mean_absolute_error\n",
    "import matplotlib.pyplot as plt\n",
    "import seaborn as sb\n",
    "import colorcet as cc"
   ]
  },
  {
   "cell_type": "code",
   "execution_count": 98,
   "metadata": {},
   "outputs": [
    {
     "data": {
      "text/html": [
       "<div>\n",
       "<style scoped>\n",
       "    .dataframe tbody tr th:only-of-type {\n",
       "        vertical-align: middle;\n",
       "    }\n",
       "\n",
       "    .dataframe tbody tr th {\n",
       "        vertical-align: top;\n",
       "    }\n",
       "\n",
       "    .dataframe thead th {\n",
       "        text-align: right;\n",
       "    }\n",
       "</style>\n",
       "<table border=\"1\" class=\"dataframe\">\n",
       "  <thead>\n",
       "    <tr style=\"text-align: right;\">\n",
       "      <th></th>\n",
       "      <th>Year</th>\n",
       "      <th>Month</th>\n",
       "      <th>Carrier</th>\n",
       "      <th>Carrier_Name</th>\n",
       "      <th>Arrival Flights</th>\n",
       "      <th>Delays</th>\n",
       "      <th>Employees</th>\n",
       "      <th>Passengers</th>\n",
       "      <th>Delays_Over_Flights</th>\n",
       "      <th>Employees_Over_Flights</th>\n",
       "      <th>Passengers_Over_Flights</th>\n",
       "    </tr>\n",
       "  </thead>\n",
       "  <tbody>\n",
       "    <tr>\n",
       "      <th>0</th>\n",
       "      <td>2021</td>\n",
       "      <td>12</td>\n",
       "      <td>9E</td>\n",
       "      <td>Endeavor</td>\n",
       "      <td>21876</td>\n",
       "      <td>793</td>\n",
       "      <td>5046</td>\n",
       "      <td>1109664</td>\n",
       "      <td>0.036250</td>\n",
       "      <td>0.230664</td>\n",
       "      <td>50.725178</td>\n",
       "    </tr>\n",
       "    <tr>\n",
       "      <th>1</th>\n",
       "      <td>2021</td>\n",
       "      <td>12</td>\n",
       "      <td>AA</td>\n",
       "      <td>American_Airlines</td>\n",
       "      <td>71824</td>\n",
       "      <td>4495</td>\n",
       "      <td>97881</td>\n",
       "      <td>12155584</td>\n",
       "      <td>0.062584</td>\n",
       "      <td>1.362790</td>\n",
       "      <td>169.241256</td>\n",
       "    </tr>\n",
       "    <tr>\n",
       "      <th>2</th>\n",
       "      <td>2021</td>\n",
       "      <td>12</td>\n",
       "      <td>AS</td>\n",
       "      <td>Alaska_Airlines</td>\n",
       "      <td>16885</td>\n",
       "      <td>1430</td>\n",
       "      <td>17054</td>\n",
       "      <td>2318889</td>\n",
       "      <td>0.084691</td>\n",
       "      <td>1.010009</td>\n",
       "      <td>137.334261</td>\n",
       "    </tr>\n",
       "    <tr>\n",
       "      <th>3</th>\n",
       "      <td>2021</td>\n",
       "      <td>12</td>\n",
       "      <td>B6</td>\n",
       "      <td>JetBlue_Airways</td>\n",
       "      <td>21181</td>\n",
       "      <td>2962</td>\n",
       "      <td>20680</td>\n",
       "      <td>3027871</td>\n",
       "      <td>0.139842</td>\n",
       "      <td>0.976347</td>\n",
       "      <td>142.952221</td>\n",
       "    </tr>\n",
       "    <tr>\n",
       "      <th>4</th>\n",
       "      <td>2021</td>\n",
       "      <td>12</td>\n",
       "      <td>DL</td>\n",
       "      <td>Delta_Air_Lines</td>\n",
       "      <td>68537</td>\n",
       "      <td>5164</td>\n",
       "      <td>81679</td>\n",
       "      <td>10380082</td>\n",
       "      <td>0.075346</td>\n",
       "      <td>1.191750</td>\n",
       "      <td>151.452237</td>\n",
       "    </tr>\n",
       "    <tr>\n",
       "      <th>5</th>\n",
       "      <td>2021</td>\n",
       "      <td>12</td>\n",
       "      <td>F9</td>\n",
       "      <td>Frontier_Airlines</td>\n",
       "      <td>13160</td>\n",
       "      <td>1254</td>\n",
       "      <td>5502</td>\n",
       "      <td>2055503</td>\n",
       "      <td>0.095289</td>\n",
       "      <td>0.418085</td>\n",
       "      <td>156.193237</td>\n",
       "    </tr>\n",
       "    <tr>\n",
       "      <th>6</th>\n",
       "      <td>2021</td>\n",
       "      <td>12</td>\n",
       "      <td>G4</td>\n",
       "      <td>Allegiant_Air</td>\n",
       "      <td>10339</td>\n",
       "      <td>849</td>\n",
       "      <td>4707</td>\n",
       "      <td>1326080</td>\n",
       "      <td>0.082116</td>\n",
       "      <td>0.455266</td>\n",
       "      <td>128.259986</td>\n",
       "    </tr>\n",
       "    <tr>\n",
       "      <th>7</th>\n",
       "      <td>2021</td>\n",
       "      <td>12</td>\n",
       "      <td>HA</td>\n",
       "      <td>Hawaiian_Airlines</td>\n",
       "      <td>6206</td>\n",
       "      <td>745</td>\n",
       "      <td>6599</td>\n",
       "      <td>735499</td>\n",
       "      <td>0.120045</td>\n",
       "      <td>1.063326</td>\n",
       "      <td>118.514180</td>\n",
       "    </tr>\n",
       "    <tr>\n",
       "      <th>8</th>\n",
       "      <td>2021</td>\n",
       "      <td>12</td>\n",
       "      <td>MQ</td>\n",
       "      <td>Envoy_Air</td>\n",
       "      <td>22845</td>\n",
       "      <td>1040</td>\n",
       "      <td>15305</td>\n",
       "      <td>1263213</td>\n",
       "      <td>0.045524</td>\n",
       "      <td>0.669950</td>\n",
       "      <td>55.294944</td>\n",
       "    </tr>\n",
       "    <tr>\n",
       "      <th>9</th>\n",
       "      <td>2021</td>\n",
       "      <td>12</td>\n",
       "      <td>NK</td>\n",
       "      <td>Spirit_Air_Lines</td>\n",
       "      <td>17985</td>\n",
       "      <td>1475</td>\n",
       "      <td>10433</td>\n",
       "      <td>3002407</td>\n",
       "      <td>0.082013</td>\n",
       "      <td>0.580095</td>\n",
       "      <td>166.939505</td>\n",
       "    </tr>\n",
       "    <tr>\n",
       "      <th>10</th>\n",
       "      <td>2021</td>\n",
       "      <td>12</td>\n",
       "      <td>OH</td>\n",
       "      <td>PSA_Airlines</td>\n",
       "      <td>20535</td>\n",
       "      <td>1016</td>\n",
       "      <td>4378</td>\n",
       "      <td>1160815</td>\n",
       "      <td>0.049477</td>\n",
       "      <td>0.213197</td>\n",
       "      <td>56.528610</td>\n",
       "    </tr>\n",
       "    <tr>\n",
       "      <th>11</th>\n",
       "      <td>2021</td>\n",
       "      <td>12</td>\n",
       "      <td>OO</td>\n",
       "      <td>SkyWest_Airlines</td>\n",
       "      <td>65939</td>\n",
       "      <td>9326</td>\n",
       "      <td>15205</td>\n",
       "      <td>3405345</td>\n",
       "      <td>0.141434</td>\n",
       "      <td>0.230592</td>\n",
       "      <td>51.643868</td>\n",
       "    </tr>\n",
       "    <tr>\n",
       "      <th>12</th>\n",
       "      <td>2021</td>\n",
       "      <td>12</td>\n",
       "      <td>UA</td>\n",
       "      <td>United_Air_Lines</td>\n",
       "      <td>49541</td>\n",
       "      <td>4776</td>\n",
       "      <td>78340</td>\n",
       "      <td>8345907</td>\n",
       "      <td>0.096405</td>\n",
       "      <td>1.581316</td>\n",
       "      <td>168.464645</td>\n",
       "    </tr>\n",
       "    <tr>\n",
       "      <th>13</th>\n",
       "      <td>2021</td>\n",
       "      <td>12</td>\n",
       "      <td>WN</td>\n",
       "      <td>Southwest_Airlines</td>\n",
       "      <td>97339</td>\n",
       "      <td>10923</td>\n",
       "      <td>55746</td>\n",
       "      <td>11866446</td>\n",
       "      <td>0.112216</td>\n",
       "      <td>0.572700</td>\n",
       "      <td>121.908444</td>\n",
       "    </tr>\n",
       "    <tr>\n",
       "      <th>14</th>\n",
       "      <td>2021</td>\n",
       "      <td>12</td>\n",
       "      <td>YV</td>\n",
       "      <td>Mesa_Airlines</td>\n",
       "      <td>12702</td>\n",
       "      <td>1210</td>\n",
       "      <td>3041</td>\n",
       "      <td>848610</td>\n",
       "      <td>0.095261</td>\n",
       "      <td>0.239411</td>\n",
       "      <td>66.809164</td>\n",
       "    </tr>\n",
       "    <tr>\n",
       "      <th>15</th>\n",
       "      <td>2021</td>\n",
       "      <td>12</td>\n",
       "      <td>YX</td>\n",
       "      <td>Republic_Airline</td>\n",
       "      <td>27593</td>\n",
       "      <td>1129</td>\n",
       "      <td>6076</td>\n",
       "      <td>1394445</td>\n",
       "      <td>0.040916</td>\n",
       "      <td>0.220201</td>\n",
       "      <td>50.536187</td>\n",
       "    </tr>\n",
       "    <tr>\n",
       "      <th>16</th>\n",
       "      <td>2021</td>\n",
       "      <td>11</td>\n",
       "      <td>9E</td>\n",
       "      <td>Endeavor</td>\n",
       "      <td>21149</td>\n",
       "      <td>647</td>\n",
       "      <td>5124</td>\n",
       "      <td>1105468</td>\n",
       "      <td>0.030592</td>\n",
       "      <td>0.242281</td>\n",
       "      <td>52.270462</td>\n",
       "    </tr>\n",
       "  </tbody>\n",
       "</table>\n",
       "</div>"
      ],
      "text/plain": [
       "    Year  Month Carrier        Carrier_Name  Arrival Flights  Delays  \\\n",
       "0   2021     12      9E            Endeavor            21876     793   \n",
       "1   2021     12      AA   American_Airlines            71824    4495   \n",
       "2   2021     12      AS     Alaska_Airlines            16885    1430   \n",
       "3   2021     12      B6     JetBlue_Airways            21181    2962   \n",
       "4   2021     12      DL     Delta_Air_Lines            68537    5164   \n",
       "5   2021     12      F9   Frontier_Airlines            13160    1254   \n",
       "6   2021     12      G4       Allegiant_Air            10339     849   \n",
       "7   2021     12      HA   Hawaiian_Airlines             6206     745   \n",
       "8   2021     12      MQ           Envoy_Air            22845    1040   \n",
       "9   2021     12      NK    Spirit_Air_Lines            17985    1475   \n",
       "10  2021     12      OH        PSA_Airlines            20535    1016   \n",
       "11  2021     12      OO    SkyWest_Airlines            65939    9326   \n",
       "12  2021     12      UA    United_Air_Lines            49541    4776   \n",
       "13  2021     12      WN  Southwest_Airlines            97339   10923   \n",
       "14  2021     12      YV       Mesa_Airlines            12702    1210   \n",
       "15  2021     12      YX    Republic_Airline            27593    1129   \n",
       "16  2021     11      9E            Endeavor            21149     647   \n",
       "\n",
       "    Employees  Passengers  Delays_Over_Flights  Employees_Over_Flights  \\\n",
       "0        5046     1109664             0.036250                0.230664   \n",
       "1       97881    12155584             0.062584                1.362790   \n",
       "2       17054     2318889             0.084691                1.010009   \n",
       "3       20680     3027871             0.139842                0.976347   \n",
       "4       81679    10380082             0.075346                1.191750   \n",
       "5        5502     2055503             0.095289                0.418085   \n",
       "6        4707     1326080             0.082116                0.455266   \n",
       "7        6599      735499             0.120045                1.063326   \n",
       "8       15305     1263213             0.045524                0.669950   \n",
       "9       10433     3002407             0.082013                0.580095   \n",
       "10       4378     1160815             0.049477                0.213197   \n",
       "11      15205     3405345             0.141434                0.230592   \n",
       "12      78340     8345907             0.096405                1.581316   \n",
       "13      55746    11866446             0.112216                0.572700   \n",
       "14       3041      848610             0.095261                0.239411   \n",
       "15       6076     1394445             0.040916                0.220201   \n",
       "16       5124     1105468             0.030592                0.242281   \n",
       "\n",
       "    Passengers_Over_Flights  \n",
       "0                 50.725178  \n",
       "1                169.241256  \n",
       "2                137.334261  \n",
       "3                142.952221  \n",
       "4                151.452237  \n",
       "5                156.193237  \n",
       "6                128.259986  \n",
       "7                118.514180  \n",
       "8                 55.294944  \n",
       "9                166.939505  \n",
       "10                56.528610  \n",
       "11                51.643868  \n",
       "12               168.464645  \n",
       "13               121.908444  \n",
       "14                66.809164  \n",
       "15                50.536187  \n",
       "16                52.270462  "
      ]
     },
     "execution_count": 98,
     "metadata": {},
     "output_type": "execute_result"
    }
   ],
   "source": [
    "#importing the compiled dataset\n",
    "df = pd.read_csv('CDS492_Dataset.csv')\n",
    "\n",
    "df.head(17)"
   ]
  },
  {
   "cell_type": "code",
   "execution_count": 99,
   "metadata": {},
   "outputs": [
    {
     "data": {
      "text/html": [
       "<div>\n",
       "<style scoped>\n",
       "    .dataframe tbody tr th:only-of-type {\n",
       "        vertical-align: middle;\n",
       "    }\n",
       "\n",
       "    .dataframe tbody tr th {\n",
       "        vertical-align: top;\n",
       "    }\n",
       "\n",
       "    .dataframe thead th {\n",
       "        text-align: right;\n",
       "    }\n",
       "</style>\n",
       "<table border=\"1\" class=\"dataframe\">\n",
       "  <thead>\n",
       "    <tr style=\"text-align: right;\">\n",
       "      <th></th>\n",
       "      <th>Carrier_Name</th>\n",
       "      <th>Delays_Over_Flights</th>\n",
       "      <th>Employees_Over_Flights</th>\n",
       "      <th>Passengers_Over_Flights</th>\n",
       "    </tr>\n",
       "  </thead>\n",
       "  <tbody>\n",
       "    <tr>\n",
       "      <th>0</th>\n",
       "      <td>Endeavor</td>\n",
       "      <td>0.036250</td>\n",
       "      <td>0.230664</td>\n",
       "      <td>50.725178</td>\n",
       "    </tr>\n",
       "    <tr>\n",
       "      <th>1</th>\n",
       "      <td>American_Airlines</td>\n",
       "      <td>0.062584</td>\n",
       "      <td>1.362790</td>\n",
       "      <td>169.241256</td>\n",
       "    </tr>\n",
       "    <tr>\n",
       "      <th>2</th>\n",
       "      <td>Alaska_Airlines</td>\n",
       "      <td>0.084691</td>\n",
       "      <td>1.010009</td>\n",
       "      <td>137.334261</td>\n",
       "    </tr>\n",
       "    <tr>\n",
       "      <th>3</th>\n",
       "      <td>JetBlue_Airways</td>\n",
       "      <td>0.139842</td>\n",
       "      <td>0.976347</td>\n",
       "      <td>142.952221</td>\n",
       "    </tr>\n",
       "    <tr>\n",
       "      <th>4</th>\n",
       "      <td>Delta_Air_Lines</td>\n",
       "      <td>0.075346</td>\n",
       "      <td>1.191750</td>\n",
       "      <td>151.452237</td>\n",
       "    </tr>\n",
       "  </tbody>\n",
       "</table>\n",
       "</div>"
      ],
      "text/plain": [
       "        Carrier_Name  Delays_Over_Flights  Employees_Over_Flights  \\\n",
       "0           Endeavor             0.036250                0.230664   \n",
       "1  American_Airlines             0.062584                1.362790   \n",
       "2    Alaska_Airlines             0.084691                1.010009   \n",
       "3    JetBlue_Airways             0.139842                0.976347   \n",
       "4    Delta_Air_Lines             0.075346                1.191750   \n",
       "\n",
       "   Passengers_Over_Flights  \n",
       "0                50.725178  \n",
       "1               169.241256  \n",
       "2               137.334261  \n",
       "3               142.952221  \n",
       "4               151.452237  "
      ]
     },
     "execution_count": 99,
     "metadata": {},
     "output_type": "execute_result"
    }
   ],
   "source": [
    "#creating a new dataset with the columns of interest for the model\n",
    "df2 = df[['Carrier_Name', 'Delays_Over_Flights', 'Employees_Over_Flights', 'Passengers_Over_Flights']]\n",
    "df2.head()"
   ]
  },
  {
   "cell_type": "code",
   "execution_count": 100,
   "metadata": {},
   "outputs": [],
   "source": [
    "#creating dummy values for the categorical variable 'Carrier_Name'\n",
    "unit_col_name='Carrier_Name'\n",
    "\n",
    "df_dummies = pd.get_dummies(df[unit_col_name])\n",
    "\n",
    "df2_with_dummies = df2.join(df_dummies)"
   ]
  },
  {
   "cell_type": "code",
   "execution_count": 101,
   "metadata": {},
   "outputs": [],
   "source": [
    "#Creating predictor and target value labels to later be input into X and y values for the model\n",
    "df2_with_dummies = df2_with_dummies.drop('Carrier_Name', axis=1)\n",
    "target_column = ['Delays_Over_Flights']\n",
    "predictors = list(set(list(df2_with_dummies.columns))-set(target_column))"
   ]
  },
  {
   "cell_type": "code",
   "execution_count": 102,
   "metadata": {},
   "outputs": [],
   "source": [
    "#Setting X and y values for the model\n",
    "X = df2_with_dummies[predictors]\n",
    "y = df2_with_dummies[target_column]"
   ]
  },
  {
   "cell_type": "code",
   "execution_count": 103,
   "metadata": {},
   "outputs": [],
   "source": [
    "#Fitting the data to a linear regression model\n",
    "model = LinearRegression().fit(X, y)"
   ]
  },
  {
   "cell_type": "code",
   "execution_count": 104,
   "metadata": {},
   "outputs": [
    {
     "name": "stdout",
     "output_type": "stream",
     "text": [
      "Mean Squared Error:  0.00026709743548070043\n",
      "Root Mean Squared Error:  0.016343115843703133\n",
      "R2 Score:  0.6430897453815402\n",
      "Mean Absolute Error:  0.012020947365108746\n"
     ]
    }
   ],
   "source": [
    "#Using the fitted model to predict data on the X values and finding the R2 score, MSE, and root MSE for the data\n",
    "pred= model.predict(X)\n",
    "print(\"Mean Squared Error: \", mean_squared_error(y, pred))\n",
    "print(\"Root Mean Squared Error: \", np.sqrt(mean_squared_error(y,pred)))\n",
    "print(\"R2 Score: \", r2_score(y, pred))\n",
    "print(\"Mean Absolute Error: \", mean_absolute_error(y, pred))"
   ]
  },
  {
   "cell_type": "code",
   "execution_count": 105,
   "metadata": {},
   "outputs": [
    {
     "name": "stdout",
     "output_type": "stream",
     "text": [
      "Mean Squared Error:  1.823421971955407e-05\n",
      "Root Mean Squared Error:  0.004270154531109392\n",
      "R2 Score:  0.9428283252301553\n",
      "Mean Absolute Error:  0.0024182871577547852\n"
     ]
    }
   ],
   "source": [
    "#Creating a new dataset with only data for the 'Endeavor' airline and refitting and predicting on a linear regression model\n",
    "#with the new dataset\n",
    "df3 = df2[df2['Carrier_Name'] == 'Endeavor']\n",
    "\n",
    "df3 = df3.drop('Carrier_Name', axis=1)\n",
    "target_column = ['Delays_Over_Flights']\n",
    "predictors = list(set(list(df3.columns))-set(target_column))\n",
    "\n",
    "X = df3[predictors]\n",
    "y = df3[target_column]\n",
    "\n",
    "model = LinearRegression().fit(X, y)\n",
    "\n",
    "pred = model.predict(X)\n",
    "print(\"Mean Squared Error: \", mean_squared_error(y, pred))\n",
    "print(\"Root Mean Squared Error: \", np.sqrt(mean_squared_error(y,pred)))\n",
    "print(\"R2 Score: \", r2_score(y, pred))\n",
    "print(\"Mean Absolute Error: \", mean_absolute_error(y, pred))"
   ]
  },
  {
   "cell_type": "code",
   "execution_count": 106,
   "metadata": {},
   "outputs": [
    {
     "name": "stdout",
     "output_type": "stream",
     "text": [
      "Mean Squared Error:  0.00013646079550034374\n",
      "Root Mean Squared Error:  0.011681643527361368\n",
      "R2 Score:  0.41549992910141176\n",
      "Mean Absolute Error:  0.00858365214240947\n"
     ]
    }
   ],
   "source": [
    "#Creating a new dataset with only data for the 'American Airlines' airline and refitting and predicting on a linear regression model\n",
    "#with the new dataset\n",
    "df4 = df2[df2['Carrier_Name'] == 'American_Airlines']\n",
    "\n",
    "df4 = df4.drop('Carrier_Name', axis=1)\n",
    "target_column = ['Delays_Over_Flights']\n",
    "predictors = list(set(list(df4.columns))-set(target_column))\n",
    "\n",
    "X = df4[predictors]\n",
    "y = df4[target_column]\n",
    "\n",
    "model = LinearRegression().fit(X, y)\n",
    "\n",
    "pred = model.predict(X)\n",
    "print(\"Mean Squared Error: \", mean_squared_error(y, pred))\n",
    "print(\"Root Mean Squared Error: \", np.sqrt(mean_squared_error(y,pred)))\n",
    "print(\"R2 Score: \", r2_score(y, pred))\n",
    "print(\"Mean Absolute Error: \", mean_absolute_error(y, pred))"
   ]
  },
  {
   "cell_type": "code",
   "execution_count": 107,
   "metadata": {},
   "outputs": [
    {
     "name": "stdout",
     "output_type": "stream",
     "text": [
      "Mean Squared Error:  9.695519971691577e-05\n",
      "Root Mean Squared Error:  0.009846583149342506\n",
      "R2 Score:  0.22889635741393322\n",
      "Mean Absolute Error:  0.006852248605920734\n"
     ]
    }
   ],
   "source": [
    "#Creating a new dataset with only data for the 'Alaska Airlines' airline and refitting and predicting on a linear regression model\n",
    "#with the new dataset\n",
    "df5 = df2[df2['Carrier_Name'] == 'Alaska_Airlines']\n",
    "\n",
    "df5 = df5.drop('Carrier_Name', axis=1)\n",
    "target_column = ['Delays_Over_Flights']\n",
    "predictors = list(set(list(df5.columns))-set(target_column))\n",
    "\n",
    "X = df5[predictors]\n",
    "y = df5[target_column]\n",
    "\n",
    "model = LinearRegression().fit(X, y)\n",
    "\n",
    "pred = model.predict(X)\n",
    "print(\"Mean Squared Error: \", mean_squared_error(y, pred))\n",
    "print(\"Root Mean Squared Error: \", np.sqrt(mean_squared_error(y,pred)))\n",
    "print(\"R2 Score: \", r2_score(y, pred))\n",
    "print(\"Mean Absolute Error: \", mean_absolute_error(y, pred))"
   ]
  },
  {
   "cell_type": "code",
   "execution_count": 108,
   "metadata": {},
   "outputs": [
    {
     "name": "stdout",
     "output_type": "stream",
     "text": [
      "Mean Squared Error:  0.0003843099531656994\n",
      "Root Mean Squared Error:  0.01960382496263674\n",
      "R2 Score:  0.47026256154945467\n",
      "Mean Absolute Error:  0.015442590824069772\n"
     ]
    }
   ],
   "source": [
    "#Creating a new dataset with only data for the 'JetBlue Airways' airline and refitting and predicting on a linear regression model\n",
    "#with the new dataset\n",
    "df6 = df2[df2['Carrier_Name'] == 'JetBlue_Airways']\n",
    "\n",
    "df6 = df6.drop('Carrier_Name', axis=1)\n",
    "target_column = ['Delays_Over_Flights']\n",
    "predictors = list(set(list(df6.columns))-set(target_column))\n",
    "\n",
    "X = df6[predictors]\n",
    "y = df6[target_column]\n",
    "\n",
    "model = LinearRegression().fit(X, y)\n",
    "\n",
    "pred = model.predict(X)\n",
    "print(\"Mean Squared Error: \", mean_squared_error(y, pred))\n",
    "print(\"Root Mean Squared Error: \", np.sqrt(mean_squared_error(y,pred)))\n",
    "print(\"R2 Score: \", r2_score(y, pred))\n",
    "print(\"Mean Absolute Error: \", mean_absolute_error(y, pred))"
   ]
  },
  {
   "cell_type": "code",
   "execution_count": 109,
   "metadata": {},
   "outputs": [
    {
     "name": "stdout",
     "output_type": "stream",
     "text": [
      "Mean Squared Error:  9.863824412348107e-05\n",
      "Root Mean Squared Error:  0.009931678816971533\n",
      "R2 Score:  0.23290487343836863\n",
      "Mean Absolute Error:  0.00788222942366274\n"
     ]
    }
   ],
   "source": [
    "#Creating a new dataset with only data for the 'Delta Air Lines' airline and refitting and predicting on a linear regression model\n",
    "#with the new dataset\n",
    "df7 = df2[df2['Carrier_Name'] == 'Delta_Air_Lines']\n",
    "\n",
    "df7 = df7.drop('Carrier_Name', axis=1)\n",
    "target_column = ['Delays_Over_Flights']\n",
    "predictors = list(set(list(df7.columns))-set(target_column))\n",
    "\n",
    "X = df7[predictors]\n",
    "y = df7[target_column]\n",
    "\n",
    "model = LinearRegression().fit(X, y)\n",
    "\n",
    "pred = model.predict(X)\n",
    "print(\"Mean Squared Error: \", mean_squared_error(y, pred))\n",
    "print(\"Root Mean Squared Error: \", np.sqrt(mean_squared_error(y,pred)))\n",
    "print(\"R2 Score: \", r2_score(y, pred))\n",
    "print(\"Mean Absolute Error: \", mean_absolute_error(y, pred))"
   ]
  },
  {
   "cell_type": "code",
   "execution_count": 110,
   "metadata": {},
   "outputs": [
    {
     "name": "stdout",
     "output_type": "stream",
     "text": [
      "Mean Squared Error:  0.0003535455097624588\n",
      "Root Mean Squared Error:  0.018802805901313207\n",
      "R2 Score:  0.28225619410051517\n",
      "Mean Absolute Error:  0.015263448140330604\n"
     ]
    }
   ],
   "source": [
    "#Creating a new dataset with only data for the 'Frontier Airlines' airline and refitting and predicting on a linear regression model\n",
    "#with the new dataset\n",
    "df8 = df2[df2['Carrier_Name'] == 'Frontier_Airlines']\n",
    "\n",
    "df8 = df8.drop('Carrier_Name', axis=1)\n",
    "target_column = ['Delays_Over_Flights']\n",
    "predictors = list(set(list(df8.columns))-set(target_column))\n",
    "\n",
    "X = df8[predictors]\n",
    "y = df8[target_column]\n",
    "\n",
    "model = LinearRegression().fit(X, y)\n",
    "\n",
    "pred = model.predict(X)\n",
    "print(\"Mean Squared Error: \", mean_squared_error(y, pred))\n",
    "print(\"Root Mean Squared Error: \", np.sqrt(mean_squared_error(y,pred)))\n",
    "print(\"R2 Score: \", r2_score(y, pred))\n",
    "print(\"Mean Absolute Error: \", mean_absolute_error(y, pred))"
   ]
  },
  {
   "cell_type": "code",
   "execution_count": 111,
   "metadata": {},
   "outputs": [
    {
     "name": "stdout",
     "output_type": "stream",
     "text": [
      "Mean Squared Error:  0.00011807685954286226\n",
      "Root Mean Squared Error:  0.010866317662523136\n",
      "R2 Score:  0.8817021767296863\n",
      "Mean Absolute Error:  0.006774220582999806\n"
     ]
    }
   ],
   "source": [
    "#Creating a new dataset with only data for the 'Allegiant Air' airline and refitting and predicting on a linear regression model\n",
    "#with the new dataset\n",
    "df9 = df2[df2['Carrier_Name'] == 'Allegiant_Air']\n",
    "\n",
    "df9 = df9.drop('Carrier_Name', axis=1)\n",
    "target_column = ['Delays_Over_Flights']\n",
    "predictors = list(set(list(df9.columns))-set(target_column))\n",
    "\n",
    "X = df9[predictors]\n",
    "y = df9[target_column]\n",
    "\n",
    "model = LinearRegression().fit(X, y)\n",
    "\n",
    "pred = model.predict(X)\n",
    "print(\"Mean Squared Error: \", mean_squared_error(y, pred))\n",
    "print(\"Root Mean Squared Error: \", np.sqrt(mean_squared_error(y,pred)))\n",
    "print(\"R2 Score: \", r2_score(y, pred))\n",
    "print(\"Mean Absolute Error: \", mean_absolute_error(y, pred))"
   ]
  },
  {
   "cell_type": "code",
   "execution_count": 112,
   "metadata": {},
   "outputs": [
    {
     "name": "stdout",
     "output_type": "stream",
     "text": [
      "Mean Squared Error:  0.00025140147294953083\n",
      "Root Mean Squared Error:  0.015855644829193508\n",
      "R2 Score:  0.28316370611438557\n",
      "Mean Absolute Error:  0.01228453041845686\n"
     ]
    }
   ],
   "source": [
    "#Creating a new dataset with only data for the 'Hawaiian Airlines' airline and refitting and predicting on a linear regression model\n",
    "#with the new dataset\n",
    "df10 = df2[df2['Carrier_Name'] == 'Hawaiian_Airlines']\n",
    "\n",
    "df10 = df10.drop('Carrier_Name', axis=1)\n",
    "target_column = ['Delays_Over_Flights']\n",
    "predictors = list(set(list(df10.columns))-set(target_column))\n",
    "\n",
    "X = df10[predictors]\n",
    "y = df10[target_column]\n",
    "\n",
    "model = LinearRegression().fit(X, y)\n",
    "\n",
    "pred = model.predict(X)\n",
    "print(\"Mean Squared Error: \", mean_squared_error(y, pred))\n",
    "print(\"Root Mean Squared Error: \", np.sqrt(mean_squared_error(y,pred)))\n",
    "print(\"R2 Score: \", r2_score(y, pred))\n",
    "print(\"Mean Absolute Error: \", mean_absolute_error(y, pred))"
   ]
  },
  {
   "cell_type": "code",
   "execution_count": 113,
   "metadata": {},
   "outputs": [
    {
     "name": "stdout",
     "output_type": "stream",
     "text": [
      "Mean Squared Error:  9.981465295150632e-05\n",
      "Root Mean Squared Error:  0.009990728349400074\n",
      "R2 Score:  0.7805894928190692\n",
      "Mean Absolute Error:  0.006256418056992188\n"
     ]
    }
   ],
   "source": [
    "#Creating a new dataset with only data for the 'Envoy Air' airline and refitting and predicting on a linear regression model\n",
    "#with the new dataset\n",
    "df11 = df2[df2['Carrier_Name'] == 'Envoy_Air']\n",
    "\n",
    "df11 = df11.drop('Carrier_Name', axis=1)\n",
    "target_column = ['Delays_Over_Flights']\n",
    "predictors = list(set(list(df11.columns))-set(target_column))\n",
    "\n",
    "X = df11[predictors]\n",
    "y = df11[target_column]\n",
    "\n",
    "model = LinearRegression().fit(X, y)\n",
    "\n",
    "pred = model.predict(X)\n",
    "print(\"Mean Squared Error: \", mean_squared_error(y, pred))\n",
    "print(\"Root Mean Squared Error: \", np.sqrt(mean_squared_error(y,pred)))\n",
    "print(\"R2 Score: \", r2_score(y, pred))\n",
    "print(\"Mean Absolute Error: \", mean_absolute_error(y, pred))"
   ]
  },
  {
   "cell_type": "code",
   "execution_count": 114,
   "metadata": {},
   "outputs": [
    {
     "name": "stdout",
     "output_type": "stream",
     "text": [
      "Mean Squared Error:  0.00042679620370852115\n",
      "Root Mean Squared Error:  0.020659046534351994\n",
      "R2 Score:  0.04154682850770319\n",
      "Mean Absolute Error:  0.015871547695678948\n"
     ]
    }
   ],
   "source": [
    "#Creating a new dataset with only data for the 'Spirit Air Lines' airline and refitting and predicting on a linear regression model\n",
    "#with the new dataset\n",
    "df12 = df2[df2['Carrier_Name'] == 'Spirit_Air_Lines']\n",
    "\n",
    "df12 = df12.drop('Carrier_Name', axis=1)\n",
    "target_column = ['Delays_Over_Flights']\n",
    "predictors = list(set(list(df12.columns))-set(target_column))\n",
    "\n",
    "X = df12[predictors]\n",
    "y = df12[target_column]\n",
    "\n",
    "model = LinearRegression().fit(X, y)\n",
    "\n",
    "pred = model.predict(X)\n",
    "print(\"Mean Squared Error: \", mean_squared_error(y, pred))\n",
    "print(\"Root Mean Squared Error: \", np.sqrt(mean_squared_error(y,pred)))\n",
    "print(\"R2 Score: \", r2_score(y, pred))\n",
    "print(\"Mean Absolute Error: \", mean_absolute_error(y, pred))"
   ]
  },
  {
   "cell_type": "code",
   "execution_count": 115,
   "metadata": {},
   "outputs": [
    {
     "name": "stdout",
     "output_type": "stream",
     "text": [
      "Mean Squared Error:  6.384835141185487e-05\n",
      "Root Mean Squared Error:  0.00799051634200537\n",
      "R2 Score:  0.8704696132655396\n",
      "Mean Absolute Error:  0.005177545542397745\n"
     ]
    }
   ],
   "source": [
    "#Creating a new dataset with only data for the 'PSA Airlines' airline and refitting and predicting on a linear regression model\n",
    "#with the new dataset\n",
    "df13 = df2[df2['Carrier_Name'] == 'PSA_Airlines']\n",
    "\n",
    "df13 = df13.drop('Carrier_Name', axis=1)\n",
    "target_column = ['Delays_Over_Flights']\n",
    "predictors = list(set(list(df13.columns))-set(target_column))\n",
    "\n",
    "X = df13[predictors]\n",
    "y = df13[target_column]\n",
    "\n",
    "model = LinearRegression().fit(X, y)\n",
    "\n",
    "pred = model.predict(X)\n",
    "print(\"Mean Squared Error: \", mean_squared_error(y, pred))\n",
    "print(\"Root Mean Squared Error: \", np.sqrt(mean_squared_error(y,pred)))\n",
    "print(\"R2 Score: \", r2_score(y, pred))\n",
    "print(\"Mean Absolute Error: \", mean_absolute_error(y, pred))"
   ]
  },
  {
   "cell_type": "code",
   "execution_count": 116,
   "metadata": {},
   "outputs": [
    {
     "name": "stdout",
     "output_type": "stream",
     "text": [
      "Mean Squared Error:  0.00045740453962628\n",
      "Root Mean Squared Error:  0.021387018016223766\n",
      "R2 Score:  0.016761206792817784\n",
      "Mean Absolute Error:  0.015103431446866086\n"
     ]
    }
   ],
   "source": [
    "#Creating a new dataset with only data for the 'SkyWest Airlines' airline and refitting and predicting on a linear regression model\n",
    "#with the new dataset\n",
    "df14 = df2[df2['Carrier_Name'] == 'SkyWest_Airlines']\n",
    "\n",
    "df14 = df14.drop('Carrier_Name', axis=1)\n",
    "target_column = ['Delays_Over_Flights']\n",
    "predictors = list(set(list(df14.columns))-set(target_column))\n",
    "\n",
    "X = df14[predictors]\n",
    "y = df14[target_column]\n",
    "\n",
    "model = LinearRegression().fit(X, y)\n",
    "\n",
    "pred = model.predict(X)\n",
    "print(\"Mean Squared Error: \", mean_squared_error(y, pred))\n",
    "print(\"Root Mean Squared Error: \", np.sqrt(mean_squared_error(y,pred)))\n",
    "print(\"R2 Score: \", r2_score(y, pred))\n",
    "print(\"Mean Absolute Error: \", mean_absolute_error(y, pred))"
   ]
  },
  {
   "cell_type": "code",
   "execution_count": 117,
   "metadata": {},
   "outputs": [
    {
     "name": "stdout",
     "output_type": "stream",
     "text": [
      "Mean Squared Error:  0.00024623095244393677\n",
      "Root Mean Squared Error:  0.015691747909138\n",
      "R2 Score:  0.282061744108704\n",
      "Mean Absolute Error:  0.011744285951376046\n"
     ]
    }
   ],
   "source": [
    "#Creating a new dataset with only data for the 'United Air Lines' airline and refitting and predicting on a linear regression model\n",
    "#with the new dataset\n",
    "df15 = df2[df2['Carrier_Name'] == 'United_Air_Lines']\n",
    "\n",
    "df15 = df15.drop('Carrier_Name', axis=1)\n",
    "target_column = ['Delays_Over_Flights']\n",
    "predictors = list(set(list(df15.columns))-set(target_column))\n",
    "\n",
    "X = df15[predictors]\n",
    "y = df15[target_column]\n",
    "\n",
    "model = LinearRegression().fit(X, y)\n",
    "\n",
    "pred = model.predict(X)\n",
    "print(\"Mean Squared Error: \", mean_squared_error(y, pred))\n",
    "print(\"Root Mean Squared Error: \", np.sqrt(mean_squared_error(y,pred)))\n",
    "print(\"R2 Score: \", r2_score(y, pred))\n",
    "print(\"Mean Absolute Error: \", mean_absolute_error(y, pred))"
   ]
  },
  {
   "cell_type": "code",
   "execution_count": 118,
   "metadata": {},
   "outputs": [
    {
     "name": "stdout",
     "output_type": "stream",
     "text": [
      "Mean Squared Error:  0.0003244796974377103\n",
      "Root Mean Squared Error:  0.018013320000424972\n",
      "R2 Score:  0.3969492459599202\n",
      "Mean Absolute Error:  0.012988949466798187\n"
     ]
    }
   ],
   "source": [
    "#Creating a new dataset with only data for the 'Southwest Airlines' airline and refitting and predicting on a linear regression model\n",
    "#with the new dataset\n",
    "df16 = df2[df2['Carrier_Name'] == 'Southwest_Airlines']\n",
    "\n",
    "df16 = df16.drop('Carrier_Name', axis=1)\n",
    "target_column = ['Delays_Over_Flights']\n",
    "predictors = list(set(list(df16.columns))-set(target_column))\n",
    "\n",
    "X = df16[predictors]\n",
    "y = df16[target_column]\n",
    "\n",
    "model = LinearRegression().fit(X, y)\n",
    "\n",
    "pred = model.predict(X)\n",
    "print(\"Mean Squared Error: \", mean_squared_error(y, pred))\n",
    "print(\"Root Mean Squared Error: \", np.sqrt(mean_squared_error(y,pred)))\n",
    "print(\"R2 Score: \", r2_score(y, pred))\n",
    "print(\"Mean Absolute Error: \", mean_absolute_error(y, pred))"
   ]
  },
  {
   "cell_type": "code",
   "execution_count": 119,
   "metadata": {},
   "outputs": [
    {
     "name": "stdout",
     "output_type": "stream",
     "text": [
      "Mean Squared Error:  0.00037788886367358263\n",
      "Root Mean Squared Error:  0.0194393637672014\n",
      "R2 Score:  0.6015615535831836\n",
      "Mean Absolute Error:  0.015298779605895662\n"
     ]
    }
   ],
   "source": [
    "#Creating a new dataset with only data for the 'Mesa Airlines' airline and refitting and predicting on a linear regression model\n",
    "#with the new dataset\n",
    "df17 = df2[df2['Carrier_Name'] == 'Mesa_Airlines']\n",
    "\n",
    "df17 = df17.drop('Carrier_Name', axis=1)\n",
    "target_column = ['Delays_Over_Flights']\n",
    "predictors = list(set(list(df17.columns))-set(target_column))\n",
    "\n",
    "X = df17[predictors]\n",
    "y = df17[target_column]\n",
    "\n",
    "model = LinearRegression().fit(X, y)\n",
    "\n",
    "pred = model.predict(X)\n",
    "print(\"Mean Squared Error: \", mean_squared_error(y, pred))\n",
    "print(\"Root Mean Squared Error: \", np.sqrt(mean_squared_error(y,pred)))\n",
    "print(\"R2 Score: \", r2_score(y, pred))\n",
    "print(\"Mean Absolute Error: \", mean_absolute_error(y, pred))"
   ]
  },
  {
   "cell_type": "code",
   "execution_count": 120,
   "metadata": {},
   "outputs": [
    {
     "name": "stdout",
     "output_type": "stream",
     "text": [
      "Mean Squared Error:  0.00014540048304932521\n",
      "Root Mean Squared Error:  0.012058212265892702\n",
      "R2 Score:  0.5872942221022548\n",
      "Mean Absolute Error:  0.008953405609617668\n"
     ]
    }
   ],
   "source": [
    "#Creating a new dataset with only data for the 'Republic Airline' airline and refitting and predicting on a linear regression model\n",
    "#with the new dataset\n",
    "df18 = df2[df2['Carrier_Name'] == 'Republic_Airline']\n",
    "\n",
    "df18 = df18.drop('Carrier_Name', axis=1)\n",
    "target_column = ['Delays_Over_Flights']\n",
    "predictors = list(set(list(df18.columns))-set(target_column))\n",
    "\n",
    "X = df18[predictors]\n",
    "y = df18[target_column]\n",
    "\n",
    "model = LinearRegression().fit(X, y)\n",
    "\n",
    "pred = model.predict(X)\n",
    "print(\"Mean Squared Error: \", mean_squared_error(y, pred))\n",
    "print(\"Root Mean Squared Error: \", np.sqrt(mean_squared_error(y,pred)))\n",
    "print(\"R2 Score: \", r2_score(y, pred))\n",
    "print(\"Mean Absolute Error: \", mean_absolute_error(y, pred))"
   ]
  },
  {
   "cell_type": "code",
   "execution_count": 121,
   "metadata": {},
   "outputs": [
    {
     "name": "stdout",
     "output_type": "stream",
     "text": [
      "Mean Squared Error:  0.00012776696662542114\n",
      "Root Mean Squared Error:  0.011303405089857709\n",
      "R2 Score:  0.7876208564611029\n",
      "Mean Absolute Error:  0.008287051349349912\n"
     ]
    }
   ],
   "source": [
    "#Creating a new dataset with only data determined as strong using r2 score (above 0.70) and refitting and predicint on a linear\n",
    "#regression model with the new dataset\n",
    "df19 = df2[df2['Carrier_Name'].isin(['Endeavor', 'Allegiant_Air', 'Envoy_Air', 'PSA_Airlines'])]\n",
    "\n",
    "df19 = df19.drop('Carrier_Name', axis=1)\n",
    "target_column = ['Delays_Over_Flights']\n",
    "predictors = list(set(list(df19.columns))-set(target_column))\n",
    "\n",
    "X = df19[predictors]\n",
    "y = df19[target_column]\n",
    "\n",
    "model = LinearRegression().fit(X, y)\n",
    "\n",
    "pred = model.predict(X)\n",
    "print(\"Mean Squared Error: \", mean_squared_error(y, pred))\n",
    "print(\"Root Mean Squared Error: \", np.sqrt(mean_squared_error(y,pred)))\n",
    "print(\"R2 Score: \", r2_score(y, pred))\n",
    "print(\"Mean Absolute Error: \", mean_absolute_error(y, pred))"
   ]
  },
  {
   "cell_type": "code",
   "execution_count": null,
   "metadata": {},
   "outputs": [],
   "source": []
  }
 ],
 "metadata": {
  "kernelspec": {
   "display_name": "Python 3",
   "language": "python",
   "name": "python3"
  },
  "language_info": {
   "codemirror_mode": {
    "name": "ipython",
    "version": 3
   },
   "file_extension": ".py",
   "mimetype": "text/x-python",
   "name": "python",
   "nbconvert_exporter": "python",
   "pygments_lexer": "ipython3",
   "version": "3.8.3"
  }
 },
 "nbformat": 4,
 "nbformat_minor": 4
}
